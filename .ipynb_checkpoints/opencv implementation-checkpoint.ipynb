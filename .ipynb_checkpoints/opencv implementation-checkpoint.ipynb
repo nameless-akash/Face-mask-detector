{
 "cells": [
  {
   "cell_type": "code",
   "execution_count": 1,
   "metadata": {},
   "outputs": [],
   "source": [
    "import pandas as pd\n",
    "import numpy as np\n",
    "import seaborn as sns\n",
    "import os\n",
    "from sklearn.utils import shuffle\n",
    "import matplotlib.pyplot as plt\n",
    "from tensorflow.keras.preprocessing.image import ImageDataGenerator, img_to_array, load_img\n",
    "import cv2\n",
    "\n",
    "import torch\n",
    "\n",
    "from PIL import Image, ImageFile\n",
    "\n",
    "ImageFile.LOAD_TRUNCATED_IMAGES = True\n",
    "\n",
    "import torch.nn as nn\n",
    "from tensorflow.keras.models import load_model\n",
    "import cv2\n",
    "import numpy as np"
   ]
  },
  {
   "cell_type": "code",
   "execution_count": 2,
   "metadata": {},
   "outputs": [],
   "source": [
    "import pretrainedmodels\n",
    "\n",
    "def get_model(pretrained):\n",
    "    if pretrained:\n",
    "        model = pretrainedmodels.__dict__[\"resnet18\"](\n",
    "                pretrained=\"imagenet\"\n",
    "        )\n",
    "        \n",
    "    else:\n",
    "        model = pretrainedmodels.__dict__[\"resnet18\"](\n",
    "                pretrined = None\n",
    "        )\n",
    "        \n",
    "    model.last_linear = nn.Sequential(\n",
    "                nn.BatchNorm1d(512),\n",
    "            nn.Dropout(p=0.25),\n",
    "            nn.Linear(in_features = 512, out_features = 100 ),\n",
    "            nn.ReLU(),\n",
    "                nn.BatchNorm1d(100 ,eps=1e-05, momentum=0.1),\n",
    "            nn.Dropout(p=0.5),\n",
    "            nn.Linear(in_features = 100, out_features = 1 ),\n",
    "       nn.Sigmoid()\n",
    "            )\n",
    "    return model"
   ]
  },
  {
   "cell_type": "code",
   "execution_count": 3,
   "metadata": {},
   "outputs": [],
   "source": [
    "model = get_model(pretrained=True)"
   ]
  },
  {
   "cell_type": "code",
   "execution_count": 4,
   "metadata": {},
   "outputs": [
    {
     "data": {
      "text/plain": [
       "<All keys matched successfully>"
      ]
     },
     "execution_count": 4,
     "metadata": {},
     "output_type": "execute_result"
    }
   ],
   "source": [
    "model.load_state_dict(torch.load('model_new', map_location=torch.device('cpu')))"
   ]
  },
  {
   "cell_type": "code",
   "execution_count": 5,
   "metadata": {},
   "outputs": [],
   "source": [
    "face_clsfr=cv2.CascadeClassifier('haarcascade_frontalface_default.xml')\n",
    "\n",
    "source=cv2.VideoCapture(0)\n",
    "\n",
    "labels_dict={0:'MASK',1:'NO MASK'}\n",
    "color_dict={0:(0,255,0),1:(0,0,255)}"
   ]
  },
  {
   "cell_type": "code",
   "execution_count": 6,
   "metadata": {},
   "outputs": [],
   "source": [
    "import torch\n",
    "\n",
    "from PIL import Image, ImageFile\n",
    "\n",
    "ImageFile.LOAD_TRUNCATED_IMAGES = True\n",
    "\n",
    "class dataset:\n",
    "    def __init__(self, image, resize = None, augmentation = None):\n",
    "        \n",
    "        self.image = image\n",
    "        \n",
    "        self.resize = resize\n",
    "        self.augmentation = augmentation\n",
    "        \n",
    " \n",
    "    def __getitem__(self):\n",
    "        \n",
    "        image = self.image\n",
    "        \n",
    "        image = cv2.resize(image,(100,100))\n",
    "        \n",
    "            \n",
    "        image = np.array(image)\n",
    "        \n",
    "        if self.augmentation is not None:\n",
    "            augmented = self.augmentation(image=image)\n",
    "            image = augmented[\"image\"]\n",
    "            \n",
    "            \n",
    "        image = np.transpose(image, (2,0,1)).astype(np.float32)\n",
    "            \n",
    "        return torch.tensor(image, dtype= torch.float)\n",
    "        "
   ]
  },
  {
   "cell_type": "code",
   "execution_count": 7,
   "metadata": {},
   "outputs": [],
   "source": [
    "\n",
    "import albumentations\n",
    "from sklearn import metrics\n",
    "from sklearn.model_selection import train_test_split\n",
    "\n",
    "\n",
    "mean = (0.485, 0.456, 0.406)\n",
    "std = (0.229, 0.224, 0.225)\n",
    "\n",
    "aug = albumentations.Compose(\n",
    "[\n",
    "    albumentations.Normalize(\n",
    "    mean, std, max_pixel_value=255.0, always_apply= True\n",
    "    )\n",
    "]\n",
    ")"
   ]
  },
  {
   "cell_type": "code",
   "execution_count": null,
   "metadata": {},
   "outputs": [],
   "source": [
    "while(True):\n",
    "    \n",
    "\n",
    "    \n",
    "    \n",
    "    \n",
    "    \n",
    "    ret,img=source.read()\n",
    "    gray=cv2.cvtColor(img,cv2.COLOR_BGR2GRAY)\n",
    "    faces=face_clsfr.detectMultiScale(gray,1.3,5)\n",
    "    \n",
    "   \n",
    "    \n",
    "    \n",
    "    \n",
    "    \n",
    "    for (x,y,w,h) in faces:\n",
    "    \n",
    "        face_img=gray[y:y+w,x:x+w]\n",
    "        face_img = cv2.cvtColor(face_img, cv2.COLOR_GRAY2BGR)\n",
    "\n",
    "\n",
    "        reshaped = dataset(image= face_img,  resize = (100,100), augmentation=aug)\n",
    "        image = reshaped.__getitem__()\n",
    "        \n",
    "\n",
    "        image = np.reshape(image,(1,3,100,100))\n",
    "\n",
    "        model.eval()\n",
    "        \n",
    "        result = model(image)\n",
    "        result = result.detach().numpy()\n",
    "        \n",
    "        if result>0.9:\n",
    "            label=0\n",
    "\n",
    "        elif result<0.9:\n",
    "            label=1\n",
    "        cv2.rectangle(img,(x,y),(x+w,y+h),color_dict[label],2)\n",
    "        cv2.rectangle(img,(x,y-40),(x+w,y),color_dict[label],-1)\n",
    "        cv2.putText(img, labels_dict[label], (x, y-10),cv2.FONT_HERSHEY_SIMPLEX,0.8,(255,255,255),2)\n",
    "        \n",
    "        \n",
    "    cv2.imshow('LIVE',img)\n",
    "    key=cv2.waitKey(1)\n",
    "    \n",
    "    if(key==27):\n",
    "        break\n",
    "        \n",
    "cv2.destroyAllWindows()\n",
    "source.release()"
   ]
  },
  {
   "cell_type": "code",
   "execution_count": 1,
   "metadata": {},
   "outputs": [
    {
     "name": "stdout",
     "output_type": "stream",
     "text": [
      "hey\n"
     ]
    }
   ],
   "source": [
    "print(\"hey\")"
   ]
  },
  {
   "cell_type": "code",
   "execution_count": null,
   "metadata": {},
   "outputs": [],
   "source": []
  }
 ],
 "metadata": {
  "kernelspec": {
   "display_name": "Python 3 (ipykernel)",
   "language": "python",
   "name": "python3"
  },
  "language_info": {
   "codemirror_mode": {
    "name": "ipython",
    "version": 3
   },
   "file_extension": ".py",
   "mimetype": "text/x-python",
   "name": "python",
   "nbconvert_exporter": "python",
   "pygments_lexer": "ipython3",
   "version": "3.8.8"
  }
 },
 "nbformat": 4,
 "nbformat_minor": 4
}
